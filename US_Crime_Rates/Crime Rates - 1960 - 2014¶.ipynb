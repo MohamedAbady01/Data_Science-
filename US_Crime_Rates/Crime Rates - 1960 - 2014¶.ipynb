{
 "cells": [
  {
   "cell_type": "markdown",
   "metadata": {},
   "source": [
    "# United States - Crime Rates - 1960 - 2014"
   ]
  },
  {
   "cell_type": "markdown",
   "metadata": {},
   "source": [
    "### Introduction:\n",
    "\n",
    "This time you will create a data \n",
    "\n",
    "Special thanks to: https://github.com/justmarkham for sharing the dataset and materials.\n",
    "\n",
    "### Step 1. Import the necessary libraries"
   ]
  },
  {
   "cell_type": "code",
   "execution_count": 1,
   "metadata": {
    "ExecuteTime": {
     "end_time": "2022-06-19T15:06:27.942422Z",
     "start_time": "2022-06-19T15:06:25.477208Z"
    }
   },
   "outputs": [],
   "source": [
    "import pandas as pd\n",
    "import numpy as np"
   ]
  },
  {
   "cell_type": "markdown",
   "metadata": {},
   "source": [
    "### Step 2. Import the dataset from this [address](https://raw.githubusercontent.com/guipsamora/pandas_exercises/master/04_Apply/US_Crime_Rates/US_Crime_Rates_1960_2014.csv). "
   ]
  },
  {
   "cell_type": "code",
   "execution_count": 2,
   "metadata": {
    "ExecuteTime": {
     "end_time": "2022-06-19T15:06:28.427540Z",
     "start_time": "2022-06-19T15:06:27.942422Z"
    }
   },
   "outputs": [],
   "source": [
    "df= pd.read_csv('https://raw.githubusercontent.com/guipsamora/pandas_exercises/master/04_Apply/US_Crime_Rates/US_Crime_Rates_1960_2014.csv',sep=',')"
   ]
  },
  {
   "cell_type": "markdown",
   "metadata": {},
   "source": [
    "### Step 3. Assign it to a variable called crime."
   ]
  },
  {
   "cell_type": "code",
   "execution_count": 3,
   "metadata": {
    "ExecuteTime": {
     "end_time": "2022-06-19T15:06:28.447505Z",
     "start_time": "2022-06-19T15:06:28.427540Z"
    }
   },
   "outputs": [],
   "source": [
    "crime = df.copy()"
   ]
  },
  {
   "cell_type": "markdown",
   "metadata": {},
   "source": [
    "### Step 4. What is the type of the columns?"
   ]
  },
  {
   "cell_type": "code",
   "execution_count": 7,
   "metadata": {
    "ExecuteTime": {
     "end_time": "2022-06-19T15:06:39.572649Z",
     "start_time": "2022-06-19T15:06:39.547777Z"
    }
   },
   "outputs": [
    {
     "data": {
      "text/plain": [
       "Year                  datetime64[ns]\n",
       "Population                     int64\n",
       "Total                          int64\n",
       "Violent                        int64\n",
       "Property                       int64\n",
       "Murder                         int64\n",
       "Forcible_Rape                  int64\n",
       "Robbery                        int64\n",
       "Aggravated_assault             int64\n",
       "Burglary                       int64\n",
       "Larceny_Theft                  int64\n",
       "Vehicle_Theft                  int64\n",
       "dtype: object"
      ]
     },
     "execution_count": 7,
     "metadata": {},
     "output_type": "execute_result"
    }
   ],
   "source": [
    "crime.dtypes\n"
   ]
  },
  {
   "cell_type": "markdown",
   "metadata": {},
   "source": [
    "##### Have you noticed that the type of Year is int64. But pandas has a different type to work with Time Series. Let's see it now.\n",
    "\n",
    "### Step 5. Convert the type of the column Year to datetime64"
   ]
  },
  {
   "cell_type": "code",
   "execution_count": 6,
   "metadata": {
    "ExecuteTime": {
     "end_time": "2022-06-19T15:06:36.357596Z",
     "start_time": "2022-06-19T15:06:36.327675Z"
    }
   },
   "outputs": [],
   "source": [
    "crime['Year'] = pd.to_datetime(crime['Year'])\n"
   ]
  },
  {
   "cell_type": "markdown",
   "metadata": {},
   "source": [
    "### Step 6. Set the Year column as the index of the dataframe"
   ]
  },
  {
   "cell_type": "code",
   "execution_count": 49,
   "metadata": {
    "ExecuteTime": {
     "end_time": "2022-06-19T14:57:15.961866Z",
     "start_time": "2022-06-19T14:57:15.932570Z"
    }
   },
   "outputs": [
    {
     "data": {
      "text/plain": [
       "Year                  datetime64[ns]\n",
       "Population                     int64\n",
       "Total                          int64\n",
       "Violent                        int64\n",
       "Property                       int64\n",
       "Murder                         int64\n",
       "Forcible_Rape                  int64\n",
       "Robbery                        int64\n",
       "Aggravated_assault             int64\n",
       "Burglary                       int64\n",
       "Larceny_Theft                  int64\n",
       "Vehicle_Theft                  int64\n",
       "dtype: object"
      ]
     },
     "execution_count": 49,
     "metadata": {},
     "output_type": "execute_result"
    }
   ],
   "source": [
    "crime.dtypes\n"
   ]
  },
  {
   "cell_type": "markdown",
   "metadata": {},
   "source": [
    "### Step 7. Delete the Total column"
   ]
  },
  {
   "cell_type": "code",
   "execution_count": 8,
   "metadata": {
    "ExecuteTime": {
     "end_time": "2022-06-19T15:06:55.137590Z",
     "start_time": "2022-06-19T15:06:55.127272Z"
    }
   },
   "outputs": [],
   "source": [
    "crime.drop(columns='Total',inplace=True)\n"
   ]
  },
  {
   "cell_type": "markdown",
   "metadata": {},
   "source": [
    "### Step 8. Group the year by decades and sum the values\n",
    "\n",
    "#### Pay attention to the Population column number, summing this column is a mistake"
   ]
  },
  {
   "cell_type": "code",
   "execution_count": 29,
   "metadata": {
    "ExecuteTime": {
     "end_time": "2022-06-19T15:20:04.726188Z",
     "start_time": "2022-06-19T15:20:04.705895Z"
    },
    "scrolled": true
   },
   "outputs": [],
   "source": [
    "\n",
    "crime['decades'] =( df['Year'] // 10 )*10 \n",
    "crimes_decades = crime.groupby('decades')[df.columns[:2:-1]].sum()\n"
   ]
  },
  {
   "cell_type": "markdown",
   "metadata": {},
   "source": [
    "### Step 9. What is the most dangerous decade to live in the US?"
   ]
  },
  {
   "cell_type": "code",
   "execution_count": 31,
   "metadata": {
    "ExecuteTime": {
     "end_time": "2022-06-19T15:20:29.651063Z",
     "start_time": "2022-06-19T15:20:29.638424Z"
    }
   },
   "outputs": [
    {
     "data": {
      "text/plain": [
       "2010"
      ]
     },
     "execution_count": 31,
     "metadata": {},
     "output_type": "execute_result"
    }
   ],
   "source": [
    "crimes_decades.index.max()"
   ]
  },
  {
   "cell_type": "code",
   "execution_count": null,
   "metadata": {},
   "outputs": [],
   "source": []
  }
 ],
 "metadata": {
  "anaconda-cloud": {},
  "kernelspec": {
   "display_name": "Python 3 (ipykernel)",
   "language": "python",
   "name": "python3"
  },
  "language_info": {
   "codemirror_mode": {
    "name": "ipython",
    "version": 3
   },
   "file_extension": ".py",
   "mimetype": "text/x-python",
   "name": "python",
   "nbconvert_exporter": "python",
   "pygments_lexer": "ipython3",
   "version": "3.9.7"
  }
 },
 "nbformat": 4,
 "nbformat_minor": 1
}
